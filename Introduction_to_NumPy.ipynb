{
  "cells": [
    {
      "cell_type": "markdown",
      "metadata": {
        "id": "3cfrOV4dL9hW"
      },
      "source": [
        "##Numpy"
      ]
    },
    {
      "cell_type": "markdown",
      "metadata": {
        "id": "fY12nHhyL9hX"
      },
      "source": [
        "Numpy is the core library for scientific computing in Python. It provides a high-performance multidimensional array object, and tools for working with these arrays. If you are already familiar with MATLAB, you might find this [tutorial](http://wiki.scipy.org/NumPy_for_Matlab_Users) useful to get started with Numpy."
      ]
    },
    {
      "cell_type": "markdown",
      "metadata": {
        "id": "lZMyAdqhL9hY"
      },
      "source": [
        "To use Numpy, we first need to import the `numpy` package:"
      ]
    },
    {
      "cell_type": "code",
      "execution_count": 1,
      "metadata": {
        "id": "58QdX8BLL9hZ"
      },
      "outputs": [],
      "source": [
        "import numpy as np"
      ]
    },
    {
      "cell_type": "code",
      "source": [
        "np.__version__"
      ],
      "metadata": {
        "id": "8xtWylWP71ic",
        "outputId": "4b0e6446-7d96-4c20-d978-89021fb197b3",
        "colab": {
          "base_uri": "https://localhost:8080/",
          "height": 35
        }
      },
      "execution_count": 2,
      "outputs": [
        {
          "output_type": "execute_result",
          "data": {
            "text/plain": [
              "'1.21.5'"
            ],
            "application/vnd.google.colaboratory.intrinsic+json": {
              "type": "string"
            }
          },
          "metadata": {},
          "execution_count": 2
        }
      ]
    },
    {
      "cell_type": "markdown",
      "metadata": {
        "id": "DDx6v1EdL9hb"
      },
      "source": [
        "###Arrays"
      ]
    },
    {
      "cell_type": "markdown",
      "metadata": {
        "id": "f-Zv3f7LL9hc"
      },
      "source": [
        "A numpy array is a grid of values, all of the same type, and is indexed by a tuple of nonnegative integers. The number of dimensions is the rank of the array; the shape of an array is a tuple of integers giving the size of the array along each dimension."
      ]
    },
    {
      "cell_type": "markdown",
      "metadata": {
        "id": "_eMTRnZRL9hc"
      },
      "source": [
        "We can initialize numpy arrays from nested Python lists, and access elements using square brackets:"
      ]
    },
    {
      "cell_type": "code",
      "execution_count": 3,
      "metadata": {
        "id": "-l3JrGxCL9hc",
        "colab": {
          "base_uri": "https://localhost:8080/"
        },
        "outputId": "97663d8d-1d10-4705-bfa4-5b4e5f95d509"
      },
      "outputs": [
        {
          "output_type": "stream",
          "name": "stdout",
          "text": [
            "<class 'numpy.ndarray'> (3,) 1 2 3\n",
            "[10  2  3]\n"
          ]
        }
      ],
      "source": [
        "a = np.array([1, 2, 3])  # Create a rank 1 array\n",
        "print(type(a), a.shape, a[0], a[1], a[2])\n",
        "a[0] = 10                 # Change an element of the array\n",
        "print(a) "
      ]
    },
    {
      "cell_type": "code",
      "execution_count": 6,
      "metadata": {
        "id": "ma6mk-kdL9hh",
        "colab": {
          "base_uri": "https://localhost:8080/"
        },
        "outputId": "aab70197-c09f-4ca9-e1c0-4685d884ed64"
      },
      "outputs": [
        {
          "output_type": "stream",
          "name": "stdout",
          "text": [
            "[[1 2 3]\n",
            " [4 5 6]]\n",
            "(2, 3)\n"
          ]
        }
      ],
      "source": [
        "b = np.array([[1,2,3],\n",
        "              [4,5,6]])   # Create a rank 2 array\n",
        "print(b)\n",
        "print(b.shape)"
      ]
    },
    {
      "cell_type": "code",
      "execution_count": 7,
      "metadata": {
        "id": "ymfSHAwtL9hj",
        "colab": {
          "base_uri": "https://localhost:8080/"
        },
        "outputId": "09b3e550-4499-4d31-e194-bc2b5d1ca84a"
      },
      "outputs": [
        {
          "output_type": "stream",
          "name": "stdout",
          "text": [
            "(2, 3)\n",
            "1 2 4 5 3 6\n"
          ]
        }
      ],
      "source": [
        "print(b.shape)\n",
        "print(b[0, 0], b[0, 1], b[1, 0],b [1,1], b[0,2], b[1,2])"
      ]
    },
    {
      "cell_type": "markdown",
      "metadata": {
        "id": "F2qwdyvuL9hn"
      },
      "source": [
        "Numpy also provides many functions to create arrays:"
      ]
    },
    {
      "cell_type": "code",
      "execution_count": 8,
      "metadata": {
        "id": "mVTN_EBqL9hn",
        "colab": {
          "base_uri": "https://localhost:8080/"
        },
        "outputId": "9f3c262d-575a-4814-868c-3b655492ebec"
      },
      "outputs": [
        {
          "output_type": "stream",
          "name": "stdout",
          "text": [
            "[[0. 0. 0.]\n",
            " [0. 0. 0.]\n",
            " [0. 0. 0.]]\n"
          ]
        }
      ],
      "source": [
        "a = np.zeros((3,3))  # Create an array of all zeros\n",
        "print(a)"
      ]
    },
    {
      "cell_type": "code",
      "execution_count": 10,
      "metadata": {
        "id": "skiKlNmlL9h5",
        "colab": {
          "base_uri": "https://localhost:8080/"
        },
        "outputId": "f1fee7eb-9de3-4612-d18f-4f6a48cc80da"
      },
      "outputs": [
        {
          "output_type": "stream",
          "name": "stdout",
          "text": [
            "[[1. 1. 1. 1.]\n",
            " [1. 1. 1. 1.]]\n"
          ]
        }
      ],
      "source": [
        "b = np.ones((2,4))   # Create an array of all ones\n",
        "print(b)"
      ]
    },
    {
      "cell_type": "code",
      "execution_count": 11,
      "metadata": {
        "id": "HtFsr03bL9h7",
        "colab": {
          "base_uri": "https://localhost:8080/"
        },
        "outputId": "05e0bb6b-0d76-489d-9052-e35279be63aa"
      },
      "outputs": [
        {
          "output_type": "stream",
          "name": "stdout",
          "text": [
            "[[14 14 14]\n",
            " [14 14 14]\n",
            " [14 14 14]]\n"
          ]
        }
      ],
      "source": [
        "c = np.full((3,3), 14) # Create a constant array\n",
        "print(c)"
      ]
    },
    {
      "cell_type": "code",
      "execution_count": 12,
      "metadata": {
        "id": "-QcALHvkL9h9",
        "colab": {
          "base_uri": "https://localhost:8080/"
        },
        "outputId": "adde7d80-d2d5-425a-cad4-a1da157aa873"
      },
      "outputs": [
        {
          "output_type": "stream",
          "name": "stdout",
          "text": [
            "[[1. 0. 0. 0.]\n",
            " [0. 1. 0. 0.]\n",
            " [0. 0. 1. 0.]\n",
            " [0. 0. 0. 1.]]\n"
          ]
        }
      ],
      "source": [
        "d = np.eye(4)        # Create a 2x2 identity matrix\n",
        "print(d)"
      ]
    },
    {
      "cell_type": "code",
      "execution_count": 13,
      "metadata": {
        "id": "RCpaYg9qL9iA",
        "colab": {
          "base_uri": "https://localhost:8080/"
        },
        "outputId": "53a5fb8b-e5cf-4010-faa0-e17dde200b7b"
      },
      "outputs": [
        {
          "output_type": "stream",
          "name": "stdout",
          "text": [
            "[[0.39976678 0.31590808 0.13078621 0.53732846 0.60416804]\n",
            " [0.09756319 0.92008996 0.7026564  0.04652158 0.6109794 ]\n",
            " [0.19848933 0.7298201  0.51929277 0.54666449 0.86644613]\n",
            " [0.3714461  0.17127601 0.15853854 0.18605168 0.7239607 ]\n",
            " [0.51677818 0.57194606 0.07734593 0.79348393 0.89445072]]\n"
          ]
        }
      ],
      "source": [
        "e = np.random.random((5,5)) # Create an array filled with random values\n",
        "print(e)"
      ]
    },
    {
      "cell_type": "markdown",
      "metadata": {
        "id": "jI5qcSDfL9iC"
      },
      "source": [
        "###Array indexing"
      ]
    },
    {
      "cell_type": "markdown",
      "metadata": {
        "id": "M-E4MUeVL9iC"
      },
      "source": [
        "Numpy offers several ways to index into arrays."
      ]
    },
    {
      "cell_type": "markdown",
      "metadata": {
        "id": "QYv4JyIEL9iD"
      },
      "source": [
        "Slicing: Similar to Python lists, numpy arrays can be sliced. Since arrays may be multidimensional, you must specify a slice for each dimension of the array:"
      ]
    },
    {
      "cell_type": "code",
      "execution_count": 14,
      "metadata": {
        "id": "wLWA0udwL9iD",
        "colab": {
          "base_uri": "https://localhost:8080/"
        },
        "outputId": "b3286762-c9e6-4982-8353-5d5837fb6cce"
      },
      "outputs": [
        {
          "output_type": "stream",
          "name": "stdout",
          "text": [
            "[[ 6  7  8]\n",
            " [10 11 12]]\n"
          ]
        }
      ],
      "source": [
        "import numpy as np\n",
        "\n",
        "# Create the following rank 2 array with shape (3, 4)\n",
        "# [[ 1  2  3  4]\n",
        "#  [ 5  6  7  8]\n",
        "#  [ 9 10 11 12]]\n",
        "#              0,1,2,3\n",
        "a = np.array([[1,2,3,4], #indeks baris 0\n",
        "              [5,6,7,8], #indeks baris 1\n",
        "              [9,10,11,12]]) #indeks baris 2\n",
        "\n",
        "# Use slicing to pull out the subarray consisting of the first 2 rows\n",
        "# and columns 1 and 2; b is the following array of shape (2, 2):\n",
        "# [[2 3]\n",
        "#  [6 7]]\n",
        "b = a[1:3, 1:4]\n",
        "print(b)"
      ]
    },
    {
      "cell_type": "code",
      "source": [
        "c = a[0:3, 0:2]\n",
        "print(c)"
      ],
      "metadata": {
        "colab": {
          "base_uri": "https://localhost:8080/"
        },
        "id": "frx3wJQVwFOF",
        "outputId": "52298474-36d3-4adc-fc15-3dbddb80fed4"
      },
      "execution_count": 15,
      "outputs": [
        {
          "output_type": "stream",
          "name": "stdout",
          "text": [
            "[[ 1  2]\n",
            " [ 5  6]\n",
            " [ 9 10]]\n"
          ]
        }
      ]
    },
    {
      "cell_type": "markdown",
      "metadata": {
        "id": "KahhtZKYL9iF"
      },
      "source": [
        "A slice of an array is a view into the same data, so modifying it will modify the original array."
      ]
    },
    {
      "cell_type": "code",
      "execution_count": 21,
      "metadata": {
        "id": "1kmtaFHuL9iG",
        "colab": {
          "base_uri": "https://localhost:8080/"
        },
        "outputId": "0e65334b-a1a2-40e1-9477-94821570ff5c"
      },
      "outputs": [
        {
          "output_type": "stream",
          "name": "stdout",
          "text": [
            "1\n",
            "77\n"
          ]
        }
      ],
      "source": [
        "print(a[0, 0])\n",
        "a[0, 0] = 77    # b[0, 0] is the same piece of data as a[0, 1]\n",
        "print(a[0, 0]) "
      ]
    },
    {
      "cell_type": "markdown",
      "metadata": {
        "id": "_Zcf3zi-L9iI"
      },
      "source": [
        "You can also mix integer indexing with slice indexing. However, doing so will yield an array of lower rank than the original array. Note that this is quite different from the way that MATLAB handles array slicing:"
      ]
    },
    {
      "cell_type": "code",
      "execution_count": 20,
      "metadata": {
        "id": "G6lfbPuxL9iJ",
        "colab": {
          "base_uri": "https://localhost:8080/"
        },
        "outputId": "3e28648d-c815-4f34-cd91-61fcafabcbf3"
      },
      "outputs": [
        {
          "output_type": "stream",
          "name": "stdout",
          "text": [
            "[[ 1  2  3  4]\n",
            " [ 5  6  7  8]\n",
            " [ 9 10 11 12]]\n"
          ]
        }
      ],
      "source": [
        "# Create the following rank 2 array with shape (3, 4)\n",
        "a = np.array([[1,2,3,4], \n",
        "              [5,6,7,8], \n",
        "              [9,10,11,12]])\n",
        "print(a)"
      ]
    },
    {
      "cell_type": "markdown",
      "metadata": {
        "id": "NCye3NXhL9iL"
      },
      "source": [
        "Two ways of accessing the data in the middle row of the array.\n",
        "Mixing integer indexing with slices yields an array of lower rank,\n",
        "while using only slices yields an array of the same rank as the\n",
        "original array:"
      ]
    },
    {
      "cell_type": "code",
      "execution_count": 22,
      "metadata": {
        "id": "EOiEMsmNL9iL",
        "colab": {
          "base_uri": "https://localhost:8080/"
        },
        "outputId": "38038a56-66ef-4fb7-e01a-c55b76726f08"
      },
      "outputs": [
        {
          "output_type": "stream",
          "name": "stdout",
          "text": [
            "[5 6 7 8] (4,)\n",
            "[[5 6 7 8]] (1, 4)\n",
            "[[5 6 7 8]] (1, 4)\n"
          ]
        }
      ],
      "source": [
        "row_r1 = a[1, :]    # Rank 1 view of the second row of a  \n",
        "row_r2 = a[1:2, :]  # Rank 2 view of the second row of a\n",
        "row_r3 = a[[1], :]  # Rank 2 view of the second row of a\n",
        "print(row_r1, row_r1.shape)\n",
        "print(row_r2, row_r2.shape)\n",
        "print(row_r3, row_r3.shape)"
      ]
    },
    {
      "cell_type": "code",
      "execution_count": null,
      "metadata": {
        "id": "JXu73pfDL9iN",
        "colab": {
          "base_uri": "https://localhost:8080/"
        },
        "outputId": "097525c7-78fa-4871-8351-ef3067faeb7d"
      },
      "outputs": [
        {
          "output_type": "stream",
          "name": "stdout",
          "text": [
            "[ 2  6 10] (3,)\n",
            "\n",
            "[[ 2]\n",
            " [ 6]\n",
            " [10]] (3, 1)\n"
          ]
        }
      ],
      "source": [
        "# We can make the same distinction when accessing columns of an array:\n",
        "col_r1 = a[:, 1]\n",
        "col_r2 = a[:, 1:2]\n",
        "print(col_r1, col_r1.shape)\n",
        "print()\n",
        "print(col_r2, col_r2.shape)"
      ]
    },
    {
      "cell_type": "markdown",
      "metadata": {
        "id": "VP3916bOL9iP"
      },
      "source": [
        "Integer array indexing: When you index into numpy arrays using slicing, the resulting array view will always be a subarray of the original array. In contrast, integer array indexing allows you to construct arbitrary arrays using the data from another array. Here is an example:"
      ]
    },
    {
      "cell_type": "markdown",
      "source": [
        "![Slide 4_3 - 1.png](data:image/png;base64,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)"
      ],
      "metadata": {
        "id": "i5THklMXJdED"
      }
    },
    {
      "cell_type": "code",
      "execution_count": 23,
      "metadata": {
        "id": "TBnWonIDL9iP",
        "outputId": "5aac7648-6b42-4856-e8d6-16e137763fd3",
        "colab": {
          "base_uri": "https://localhost:8080/"
        }
      },
      "outputs": [
        {
          "output_type": "stream",
          "name": "stdout",
          "text": [
            "[1 4 5]\n",
            "[1 4 5]\n"
          ]
        }
      ],
      "source": [
        "a = np.array([[1,2], \n",
        "              [3, 4], \n",
        "              [5, 6]])\n",
        "\n",
        "# An example of integer array indexing.\n",
        "# The returned array will have shape (3,) and \n",
        "print(a[[0, 1, 2], [0, 1, 0]])\n",
        "\n",
        "# The above example of integer array indexing is equivalent to this:\n",
        "print(np.array([a[0, 0], a[1, 1], a[2, 0]]))"
      ]
    },
    {
      "cell_type": "code",
      "execution_count": null,
      "metadata": {
        "id": "n7vuati-L9iR",
        "outputId": "a7b0f237-4835-4d22-92db-946e38f44b0f",
        "colab": {
          "base_uri": "https://localhost:8080/"
        }
      },
      "outputs": [
        {
          "output_type": "stream",
          "name": "stdout",
          "text": [
            "[2 2]\n",
            "[2 2]\n"
          ]
        }
      ],
      "source": [
        "# When using integer array indexing, you can reuse the same\n",
        "# element from the source array:\n",
        "print(a[[0, 0], [1, 1]])\n",
        "\n",
        "# Equivalent to the previous integer array indexing example\n",
        "print(np.array([a[0, 1], a[0, 1]]))"
      ]
    },
    {
      "cell_type": "markdown",
      "metadata": {
        "id": "kaipSLafL9iU"
      },
      "source": [
        "One useful trick with integer array indexing is selecting or mutating one element from each row of a matrix:"
      ]
    },
    {
      "cell_type": "code",
      "execution_count": null,
      "metadata": {
        "id": "ehqsV7TXL9iU",
        "outputId": "c9bfe160-5ad1-4661-9a81-0e1880d7cf86",
        "colab": {
          "base_uri": "https://localhost:8080/"
        }
      },
      "outputs": [
        {
          "output_type": "stream",
          "name": "stdout",
          "text": [
            "[[ 1  2  3]\n",
            " [ 4  5  6]\n",
            " [ 7  8  9]\n",
            " [10 11 12]]\n"
          ]
        }
      ],
      "source": [
        "# Create a new array from which we will select elements\n",
        "a = np.array([[1,2,3], [4,5,6], [7,8,9], [10, 11, 12]])\n",
        "print(a)"
      ]
    },
    {
      "cell_type": "code",
      "execution_count": null,
      "metadata": {
        "id": "pAPOoqy5L9iV",
        "outputId": "99ceb490-48dc-412b-a997-846fc38684a9",
        "colab": {
          "base_uri": "https://localhost:8080/"
        }
      },
      "outputs": [
        {
          "output_type": "stream",
          "name": "stdout",
          "text": [
            "[ 1  6  7 11]\n"
          ]
        }
      ],
      "source": [
        "# Create an array of indices\n",
        "b = np.array([0, 2, 0, 1])\n",
        "\n",
        "# Select one element from each row of a using the indices in b\n",
        "print(a[np.arange(4), b])  # Prints \"[ 1  6  7 11]\""
      ]
    },
    {
      "cell_type": "code",
      "execution_count": null,
      "metadata": {
        "id": "6v1PdI1DL9ib",
        "outputId": "cc875c56-e006-4834-f3ab-835fa4f9dd4d",
        "colab": {
          "base_uri": "https://localhost:8080/"
        }
      },
      "outputs": [
        {
          "output_type": "stream",
          "name": "stdout",
          "text": [
            "[[21  2  3]\n",
            " [ 4  5 26]\n",
            " [27  8  9]\n",
            " [10 31 12]]\n"
          ]
        }
      ],
      "source": [
        "# Mutate one element from each row of a using the indices in b\n",
        "a[np.arange(4), b] += 10\n",
        "print(a)"
      ]
    },
    {
      "cell_type": "markdown",
      "metadata": {
        "id": "kaE8dBGgL9id"
      },
      "source": [
        "Boolean array indexing: Boolean array indexing lets you pick out arbitrary elements of an array. Frequently this type of indexing is used to select the elements of an array that satisfy some condition. Here is an example:"
      ]
    },
    {
      "cell_type": "code",
      "execution_count": 24,
      "metadata": {
        "id": "32PusjtKL9id",
        "outputId": "cc0dd014-ceb3-43d2-b8b5-7ff837d65167",
        "colab": {
          "base_uri": "https://localhost:8080/"
        }
      },
      "outputs": [
        {
          "output_type": "stream",
          "name": "stdout",
          "text": [
            "[[False False]\n",
            " [ True  True]\n",
            " [ True  True]]\n"
          ]
        }
      ],
      "source": [
        "import numpy as np\n",
        "\n",
        "a = np.array([[1,2], [3, 4], [5, 6]])\n",
        "\n",
        "bool_idx = (a > 2)  # Find the elements of a that are bigger than 2;\n",
        "                    # this returns a numpy array of Booleans of the same\n",
        "                    # shape as a, where each slot of bool_idx tells\n",
        "                    # whether that element of a is > 2.\n",
        "\n",
        "print(bool_idx)"
      ]
    },
    {
      "cell_type": "code",
      "execution_count": null,
      "metadata": {
        "id": "cb2IRMXaL9if",
        "outputId": "8d6a27e5-554a-40ea-b1a8-81578771c551",
        "colab": {
          "base_uri": "https://localhost:8080/"
        }
      },
      "outputs": [
        {
          "output_type": "stream",
          "name": "stdout",
          "text": [
            "[3 4 5 6]\n",
            "[3 4 5 6]\n"
          ]
        }
      ],
      "source": [
        "# We use boolean array indexing to construct a rank 1 array\n",
        "# consisting of the elements of a corresponding to the True values\n",
        "# of bool_idx\n",
        "print(a[bool_idx])\n",
        "\n",
        "# We can do all of the above in a single concise statement:\n",
        "print(a[a > 2])"
      ]
    },
    {
      "cell_type": "markdown",
      "metadata": {
        "id": "CdofMonAL9ih"
      },
      "source": [
        "For brevity we have left out a lot of details about numpy array indexing; if you want to know more you should read the documentation."
      ]
    },
    {
      "cell_type": "markdown",
      "metadata": {
        "id": "jTctwqdQL9ih"
      },
      "source": [
        "###Datatypes"
      ]
    },
    {
      "cell_type": "markdown",
      "metadata": {
        "id": "kSZQ1WkIL9ih"
      },
      "source": [
        "Every numpy array is a grid of elements of the same type. Numpy provides a large set of numeric datatypes that you can use to construct arrays. Numpy tries to guess a datatype when you create an array, but functions that construct arrays usually also include an optional argument to explicitly specify the datatype. Here is an example:"
      ]
    },
    {
      "cell_type": "code",
      "execution_count": 26,
      "metadata": {
        "id": "4za4O0m5L9ih",
        "outputId": "ee51a112-01a2-43ed-c525-3fba9fc5f956",
        "colab": {
          "base_uri": "https://localhost:8080/"
        }
      },
      "outputs": [
        {
          "output_type": "stream",
          "name": "stdout",
          "text": [
            "int64 float64 int64\n"
          ]
        }
      ],
      "source": [
        "x = np.array([1, 2])  # Let numpy choose the datatype\n",
        "y = np.array([1.0, 2.0])  # Let numpy choose the datatype\n",
        "z = np.array([1.3, 2], dtype=np.int64)  # Force a particular datatype\n",
        "\n",
        "print(x.dtype, y.dtype, z.dtype)"
      ]
    },
    {
      "cell_type": "markdown",
      "metadata": {
        "id": "RLVIsZQpL9ik"
      },
      "source": [
        "You can read all about numpy datatypes in the [documentation](http://docs.scipy.org/doc/numpy/reference/arrays.dtypes.html)."
      ]
    },
    {
      "cell_type": "markdown",
      "metadata": {
        "id": "TuB-fdhIL9ik"
      },
      "source": [
        "###Array math"
      ]
    },
    {
      "cell_type": "markdown",
      "metadata": {
        "id": "18e8V8elL9ik"
      },
      "source": [
        "Basic mathematical functions operate elementwise on arrays, and are available both as operator overloads and as functions in the numpy module:"
      ]
    },
    {
      "cell_type": "code",
      "execution_count": 27,
      "metadata": {
        "id": "gHKvBrSKL9il",
        "colab": {
          "base_uri": "https://localhost:8080/"
        },
        "outputId": "db747361-f0fe-4a20-ce8f-829d963184f8"
      },
      "outputs": [
        {
          "output_type": "stream",
          "name": "stdout",
          "text": [
            "[[1. 2.]\n",
            " [3. 4.]]\n",
            "-----------\n",
            "[[5. 6.]\n",
            " [7. 8.]]\n",
            "-----------\n",
            "[[ 6.  8.]\n",
            " [10. 12.]]\n",
            "-----------\n",
            "[[ 6.  8.]\n",
            " [10. 12.]]\n",
            "-----------\n"
          ]
        }
      ],
      "source": [
        "x = np.array([[1,2],[3,4]], dtype=np.float64)\n",
        "y = np.array([[5,6],[7,8]], dtype=np.float64)\n",
        "\n",
        "# Elementwise sum; both produce the array\n",
        "print(x)\n",
        "print('-----------')\n",
        "print(y)\n",
        "print('-----------')\n",
        "print(x + y)\n",
        "print('-----------')\n",
        "print(np.add(x, y))\n",
        "print('-----------')"
      ]
    },
    {
      "cell_type": "code",
      "execution_count": 28,
      "metadata": {
        "id": "1fZtIAMxL9in",
        "colab": {
          "base_uri": "https://localhost:8080/"
        },
        "outputId": "e1778ef6-f3b4-4564-fdbf-5222c65accee"
      },
      "outputs": [
        {
          "output_type": "stream",
          "name": "stdout",
          "text": [
            "[[-4. -4.]\n",
            " [-4. -4.]]\n",
            "-----------\n",
            "[[-4. -4.]\n",
            " [-4. -4.]]\n"
          ]
        }
      ],
      "source": [
        "# Elementwise difference; both produce the array\n",
        "print(x - y)\n",
        "print('-----------')\n",
        "print(np.subtract(x, y))"
      ]
    },
    {
      "cell_type": "code",
      "execution_count": 29,
      "metadata": {
        "id": "nil4AScML9io",
        "colab": {
          "base_uri": "https://localhost:8080/"
        },
        "outputId": "4447757a-8b18-44fa-c17c-879a765f4e24"
      },
      "outputs": [
        {
          "output_type": "stream",
          "name": "stdout",
          "text": [
            "[[ 5. 12.]\n",
            " [21. 32.]]\n",
            "-----------\n",
            "[[ 5. 12.]\n",
            " [21. 32.]]\n"
          ]
        }
      ],
      "source": [
        "# Elementwise product; both produce the array\n",
        "print(x * y)\n",
        "print('-----------')\n",
        "print(np.multiply(x, y))"
      ]
    },
    {
      "cell_type": "code",
      "execution_count": 31,
      "metadata": {
        "id": "0JoA4lH6L9ip",
        "colab": {
          "base_uri": "https://localhost:8080/"
        },
        "outputId": "e40efc73-d4ae-49ec-ca27-c96f817b33dc"
      },
      "outputs": [
        {
          "output_type": "stream",
          "name": "stdout",
          "text": [
            "[[0.2        0.33333333]\n",
            " [0.42857143 0.5       ]]\n",
            "-----------\n",
            "[[0.2        0.33333333]\n",
            " [0.42857143 0.5       ]]\n"
          ]
        }
      ],
      "source": [
        "# Elementwise division; both produce the array\n",
        "# [[ 0.2         0.33333333]\n",
        "#  [ 0.42857143  0.5       ]]\n",
        "print(x / y)\n",
        "print('-----------')\n",
        "print(np.divide(x, y))"
      ]
    },
    {
      "cell_type": "code",
      "execution_count": 32,
      "metadata": {
        "id": "g0iZuA6bL9ir",
        "colab": {
          "base_uri": "https://localhost:8080/"
        },
        "outputId": "f31e1f10-c493-4944-97da-219e33ce726e"
      },
      "outputs": [
        {
          "output_type": "stream",
          "name": "stdout",
          "text": [
            "[[2. 4.]\n",
            " [3. 5.]]\n"
          ]
        }
      ],
      "source": [
        "# Elementwise square root; produces the array\n",
        "# [[ 1.          1.41421356]\n",
        "#  [ 1.73205081  2.        ]]\n",
        "z = np.array([[4,16],\n",
        "              [9,25]], dtype=np.float64)\n",
        "print(np.sqrt(z))"
      ]
    },
    {
      "cell_type": "markdown",
      "metadata": {
        "id": "a5d_uujuL9it"
      },
      "source": [
        "Note that unlike MATLAB, `*` is elementwise multiplication, not matrix multiplication. We instead use the dot function to compute inner products of vectors, to multiply a vector by a matrix, and to multiply matrices. dot is available both as a function in the numpy module and as an instance method of array objects:"
      ]
    },
    {
      "cell_type": "code",
      "execution_count": 33,
      "metadata": {
        "id": "I3FnmoSeL9iu",
        "colab": {
          "base_uri": "https://localhost:8080/"
        },
        "outputId": "78393e1f-818d-4a9d-a335-0fe474192408"
      },
      "outputs": [
        {
          "output_type": "stream",
          "name": "stdout",
          "text": [
            "219\n",
            "219\n"
          ]
        }
      ],
      "source": [
        "x = np.array([[1,2],[3,4]])\n",
        "y = np.array([[5,6],[7,8]])\n",
        "\n",
        "v = np.array([9,10])\n",
        "w = np.array([11, 12])\n",
        "\n",
        "# Inner product of vectors; both produce 219\n",
        "print(v.dot(w))\n",
        "print(np.dot(v, w))"
      ]
    },
    {
      "cell_type": "markdown",
      "metadata": {
        "id": "vmxPbrHASVeA"
      },
      "source": [
        "You can also use the `@` operator which is equivalent to numpy's `dot` operator."
      ]
    },
    {
      "cell_type": "code",
      "execution_count": 34,
      "metadata": {
        "id": "vyrWA-mXSdtt",
        "colab": {
          "base_uri": "https://localhost:8080/"
        },
        "outputId": "3c785c0a-3b52-42aa-b492-1edbef443539"
      },
      "outputs": [
        {
          "output_type": "stream",
          "name": "stdout",
          "text": [
            "219\n"
          ]
        }
      ],
      "source": [
        "print(v @ w)"
      ]
    },
    {
      "cell_type": "code",
      "execution_count": 35,
      "metadata": {
        "id": "zvUODeTxL9iw",
        "colab": {
          "base_uri": "https://localhost:8080/"
        },
        "outputId": "186fe757-f214-4d00-a27b-f2ef46e9aa15"
      },
      "outputs": [
        {
          "output_type": "stream",
          "name": "stdout",
          "text": [
            "[29 67]\n",
            "[29 67]\n",
            "[29 67]\n"
          ]
        }
      ],
      "source": [
        "# Matrix / vector product; both produce the rank 1 array [29 67]\n",
        "print(x.dot(v))\n",
        "print(np.dot(x, v))\n",
        "print(x @ v)"
      ]
    },
    {
      "cell_type": "code",
      "execution_count": null,
      "metadata": {
        "id": "3V_3NzNEL9iy",
        "colab": {
          "base_uri": "https://localhost:8080/"
        },
        "outputId": "64ce9512-24da-48a4-da40-496dc5941268"
      },
      "outputs": [
        {
          "output_type": "stream",
          "name": "stdout",
          "text": [
            "[[19 22]\n",
            " [43 50]]\n",
            "[[19 22]\n",
            " [43 50]]\n",
            "[[19 22]\n",
            " [43 50]]\n"
          ]
        }
      ],
      "source": [
        "# Matrix / matrix product; both produce the rank 2 array\n",
        "# [[19 22]\n",
        "#  [43 50]]\n",
        "print(x.dot(y))\n",
        "print(np.dot(x, y))\n",
        "print(x @ y)"
      ]
    },
    {
      "cell_type": "markdown",
      "metadata": {
        "id": "FbE-1If_L9i0"
      },
      "source": [
        "Numpy provides many useful functions for performing computations on arrays; one of the most useful is `sum`:"
      ]
    },
    {
      "cell_type": "code",
      "execution_count": 36,
      "metadata": {
        "id": "DZUdZvPrL9i0",
        "colab": {
          "base_uri": "https://localhost:8080/"
        },
        "outputId": "611799a5-10e6-43ed-aeb5-0b08977f9bb1"
      },
      "outputs": [
        {
          "output_type": "stream",
          "name": "stdout",
          "text": [
            "10\n",
            "[4 6]\n",
            "[3 7]\n"
          ]
        }
      ],
      "source": [
        "x = np.array([[1,2],\n",
        "              [3,4]])\n",
        "\n",
        "print(np.sum(x))  # Compute sum of all elements; prints \"10\"\n",
        "print(np.sum(x, axis=0))  # Compute sum of each column; prints \"[4 6]\"\n",
        "print(np.sum(x, axis=1))  # Compute sum of each row; prints \"[3 7]\""
      ]
    },
    {
      "cell_type": "markdown",
      "metadata": {
        "id": "ahdVW4iUL9i3"
      },
      "source": [
        "You can find the full list of mathematical functions provided by numpy in the [documentation](http://docs.scipy.org/doc/numpy/reference/routines.math.html).\n",
        "\n",
        "Apart from computing mathematical functions using arrays, we frequently need to reshape or otherwise manipulate data in arrays. The simplest example of this type of operation is transposing a matrix; to transpose a matrix, simply use the T attribute of an array object:"
      ]
    },
    {
      "cell_type": "code",
      "execution_count": 37,
      "metadata": {
        "id": "63Yl1f3oL9i3",
        "colab": {
          "base_uri": "https://localhost:8080/"
        },
        "outputId": "6a6cc771-a447-4463-848e-2d42c72fded7"
      },
      "outputs": [
        {
          "output_type": "stream",
          "name": "stdout",
          "text": [
            "[[1 2]\n",
            " [3 4]]\n",
            "transpose\n",
            " [[1 3]\n",
            " [2 4]]\n"
          ]
        }
      ],
      "source": [
        "print(x)\n",
        "print(\"transpose\\n\", x.T)"
      ]
    },
    {
      "cell_type": "code",
      "execution_count": 38,
      "metadata": {
        "id": "mkk03eNIL9i4",
        "colab": {
          "base_uri": "https://localhost:8080/"
        },
        "outputId": "91b0940b-0a6f-4e05-9c49-456b42e50383"
      },
      "outputs": [
        {
          "output_type": "stream",
          "name": "stdout",
          "text": [
            "[[1 2 3]]\n",
            "transpose\n",
            " [[1]\n",
            " [2]\n",
            " [3]]\n"
          ]
        }
      ],
      "source": [
        "v = np.array([[1,2,3]])\n",
        "print(v )\n",
        "print(\"transpose\\n\", v.T)"
      ]
    },
    {
      "cell_type": "markdown",
      "metadata": {
        "id": "REfLrUTcL9i7"
      },
      "source": [
        "###Broadcasting"
      ]
    },
    {
      "cell_type": "markdown",
      "metadata": {
        "id": "EygGAMWqL9i7"
      },
      "source": [
        "Broadcasting is a powerful mechanism that allows numpy to work with arrays of different shapes when performing arithmetic operations. Frequently we have a smaller array and a larger array, and we want to use the smaller array multiple times to perform some operation on the larger array.\n",
        "\n",
        "For example, suppose that we want to add a constant vector to each row of a matrix. We could do it like this:"
      ]
    },
    {
      "cell_type": "code",
      "execution_count": null,
      "metadata": {
        "id": "WEEvkV1ZL9i7",
        "outputId": "ea9d1c14-b018-4838-a912-0ec05407d42c",
        "colab": {
          "base_uri": "https://localhost:8080/"
        }
      },
      "outputs": [
        {
          "output_type": "stream",
          "name": "stdout",
          "text": [
            "[[ 2  2  4]\n",
            " [ 5  5  7]\n",
            " [ 8  8 10]\n",
            " [11 11 13]]\n"
          ]
        }
      ],
      "source": [
        "# We will add the vector v to each row of the matrix x,\n",
        "# storing the result in the matrix y\n",
        "x = np.array([[1,2,3], [4,5,6], [7,8,9], [10, 11, 12]])\n",
        "v = np.array([1, 0, 1])\n",
        "y = np.empty_like(x)   # Create an empty matrix with the same shape as x\n",
        "\n",
        "# Add the vector v to each row of the matrix x with an explicit loop\n",
        "for i in range(4):\n",
        "    y[i, :] = x[i, :] + v\n",
        "\n",
        "print(y)"
      ]
    },
    {
      "cell_type": "markdown",
      "metadata": {
        "id": "2OlXXupEL9i-"
      },
      "source": [
        "This works; however when the matrix `x` is very large, computing an explicit loop in Python could be slow. Note that adding the vector v to each row of the matrix `x` is equivalent to forming a matrix `vv` by stacking multiple copies of `v` vertically, then performing elementwise summation of `x` and `vv`. We could implement this approach like this:"
      ]
    },
    {
      "cell_type": "code",
      "execution_count": null,
      "metadata": {
        "id": "vS7UwAQQL9i-",
        "outputId": "375cfcc4-e9f8-4845-e017-c5f7d1f79a38",
        "colab": {
          "base_uri": "https://localhost:8080/"
        }
      },
      "outputs": [
        {
          "output_type": "stream",
          "name": "stdout",
          "text": [
            "[[1 0 1]\n",
            " [1 0 1]\n",
            " [1 0 1]\n",
            " [1 0 1]]\n"
          ]
        }
      ],
      "source": [
        "vv = np.tile(v, (4, 1))  # Stack 4 copies of v on top of each other\n",
        "print(vv)                # Prints \"[[1 0 1]\n",
        "                         #          [1 0 1]\n",
        "                         #          [1 0 1]\n",
        "                         #          [1 0 1]]\""
      ]
    },
    {
      "cell_type": "code",
      "execution_count": null,
      "metadata": {
        "id": "N0hJphSIL9jA",
        "outputId": "b2fb7e0c-6f78-4dd1-8005-759e8d1d7c26",
        "colab": {
          "base_uri": "https://localhost:8080/"
        }
      },
      "outputs": [
        {
          "output_type": "stream",
          "name": "stdout",
          "text": [
            "[[ 2  2  4]\n",
            " [ 5  5  7]\n",
            " [ 8  8 10]\n",
            " [11 11 13]]\n"
          ]
        }
      ],
      "source": [
        "y = x + vv  # Add x and vv elementwise\n",
        "print(y)"
      ]
    },
    {
      "cell_type": "markdown",
      "metadata": {
        "id": "zHos6RJnL9jB"
      },
      "source": [
        "Numpy broadcasting allows us to perform this computation without actually creating multiple copies of v. Consider this version, using broadcasting:"
      ]
    },
    {
      "cell_type": "code",
      "execution_count": null,
      "metadata": {
        "id": "vnYFb-gYL9jC",
        "outputId": "5277f1f3-9f63-446a-bd30-f922c66797da",
        "colab": {
          "base_uri": "https://localhost:8080/"
        }
      },
      "outputs": [
        {
          "output_type": "stream",
          "name": "stdout",
          "text": [
            "[[ 2  2  4]\n",
            " [ 5  5  7]\n",
            " [ 8  8 10]\n",
            " [11 11 13]]\n"
          ]
        }
      ],
      "source": [
        "import numpy as np\n",
        "\n",
        "# We will add the vector v to each row of the matrix x,\n",
        "# storing the result in the matrix y\n",
        "x = np.array([[1,2,3], [4,5,6], [7,8,9], [10, 11, 12]])\n",
        "v = np.array([1, 0, 1])\n",
        "y = x + v  # Add v to each row of x using broadcasting\n",
        "print(y)"
      ]
    },
    {
      "cell_type": "markdown",
      "metadata": {
        "id": "08YyIURKL9jH"
      },
      "source": [
        "The line `y = x + v` works even though `x` has shape `(4, 3)` and `v` has shape `(3,)` due to broadcasting; this line works as if v actually had shape `(4, 3)`, where each row was a copy of `v`, and the sum was performed elementwise.\n",
        "\n",
        "Broadcasting two arrays together follows these rules:\n",
        "\n",
        "1. If the arrays do not have the same rank, prepend the shape of the lower rank array with 1s until both shapes have the same length.\n",
        "2. The two arrays are said to be compatible in a dimension if they have the same size in the dimension, or if one of the arrays has size 1 in that dimension.\n",
        "3. The arrays can be broadcast together if they are compatible in all dimensions.\n",
        "4. After broadcasting, each array behaves as if it had shape equal to the elementwise maximum of shapes of the two input arrays.\n",
        "5. In any dimension where one array had size 1 and the other array had size greater than 1, the first array behaves as if it were copied along that dimension\n",
        "\n",
        "If this explanation does not make sense, try reading the explanation from the [documentation](http://docs.scipy.org/doc/numpy/user/basics.broadcasting.html) or this [explanation](http://wiki.scipy.org/EricsBroadcastingDoc).\n",
        "\n",
        "Functions that support broadcasting are known as universal functions. You can find the list of all universal functions in the [documentation](http://docs.scipy.org/doc/numpy/reference/ufuncs.html#available-ufuncs).\n",
        "\n",
        "Here are some applications of broadcasting:"
      ]
    },
    {
      "cell_type": "code",
      "execution_count": null,
      "metadata": {
        "id": "EmQnwoM9L9jH",
        "outputId": "4b12b2ba-64eb-454d-d81e-f4ac1c6e10ef",
        "colab": {
          "base_uri": "https://localhost:8080/"
        }
      },
      "outputs": [
        {
          "output_type": "stream",
          "name": "stdout",
          "text": [
            "[[ 4  5]\n",
            " [ 8 10]\n",
            " [12 15]]\n"
          ]
        }
      ],
      "source": [
        "# Compute outer product of vectors\n",
        "v = np.array([1,2,3])  # v has shape (3,)\n",
        "w = np.array([4,5])    # w has shape (2,)\n",
        "# To compute an outer product, we first reshape v to be a column\n",
        "# vector of shape (3, 1); we can then broadcast it against w to yield\n",
        "# an output of shape (3, 2), which is the outer product of v and w:\n",
        "\n",
        "print(np.reshape(v, (3, 1)) * w)"
      ]
    },
    {
      "cell_type": "code",
      "execution_count": null,
      "metadata": {
        "id": "PgotmpcnL9jK",
        "outputId": "dac41dd3-bf13-4c78-bf44-0aa10e8c41b4",
        "colab": {
          "base_uri": "https://localhost:8080/"
        }
      },
      "outputs": [
        {
          "output_type": "stream",
          "name": "stdout",
          "text": [
            "[[2 4 6]\n",
            " [5 7 9]]\n"
          ]
        }
      ],
      "source": [
        "# Add a vector to each row of a matrix\n",
        "x = np.array([[1,2,3], [4,5,6]])\n",
        "# x has shape (2, 3) and v has shape (3,) so they broadcast to (2, 3),\n",
        "# giving the following matrix:\n",
        "\n",
        "print(x + v)"
      ]
    },
    {
      "cell_type": "code",
      "execution_count": null,
      "metadata": {
        "id": "T5hKS1QaL9jK",
        "outputId": "5db1f889-61f4-4cbe-99aa-32c6a65bc4e7",
        "colab": {
          "base_uri": "https://localhost:8080/"
        }
      },
      "outputs": [
        {
          "output_type": "stream",
          "name": "stdout",
          "text": [
            "[[ 5  6  7]\n",
            " [ 9 10 11]]\n"
          ]
        }
      ],
      "source": [
        "# Add a vector to each column of a matrix\n",
        "# x has shape (2, 3) and w has shape (2,).\n",
        "# If we transpose x then it has shape (3, 2) and can be broadcast\n",
        "# against w to yield a result of shape (3, 2); transposing this result\n",
        "# yields the final result of shape (2, 3) which is the matrix x with\n",
        "# the vector w added to each column. Gives the following matrix:\n",
        "\n",
        "print((x.T + w).T)"
      ]
    },
    {
      "cell_type": "code",
      "execution_count": null,
      "metadata": {
        "id": "JDUrZUl6L9jN",
        "outputId": "cef1dac5-e06f-4519-ed23-61be003c40e8",
        "colab": {
          "base_uri": "https://localhost:8080/"
        }
      },
      "outputs": [
        {
          "output_type": "stream",
          "name": "stdout",
          "text": [
            "[[ 5  6  7]\n",
            " [ 9 10 11]]\n"
          ]
        }
      ],
      "source": [
        "# Another solution is to reshape w to be a row vector of shape (2, 1);\n",
        "# we can then broadcast it directly against x to produce the same\n",
        "# output.\n",
        "print(x + np.reshape(w, (2, 1)))"
      ]
    },
    {
      "cell_type": "code",
      "execution_count": null,
      "metadata": {
        "id": "VzrEo4KGL9jP",
        "outputId": "9b51b87b-c54e-4132-d383-c9b938462c36",
        "colab": {
          "base_uri": "https://localhost:8080/"
        }
      },
      "outputs": [
        {
          "output_type": "stream",
          "name": "stdout",
          "text": [
            "[[ 2  4  6]\n",
            " [ 8 10 12]]\n"
          ]
        }
      ],
      "source": [
        "# Multiply a matrix by a constant:\n",
        "# x has shape (2, 3). Numpy treats scalars as arrays of shape ();\n",
        "# these can be broadcast together to shape (2, 3), producing the\n",
        "# following array:\n",
        "print(x * 2)"
      ]
    },
    {
      "cell_type": "markdown",
      "metadata": {
        "id": "89e2FXxFL9jQ"
      },
      "source": [
        "Broadcasting typically makes your code more concise and faster, so you should strive to use it where possible."
      ]
    },
    {
      "cell_type": "markdown",
      "metadata": {
        "id": "iF3ZtwVNL9jQ"
      },
      "source": [
        "This brief overview has touched on many of the important things that you need to know about numpy, but is far from complete. Check out the [numpy reference](http://docs.scipy.org/doc/numpy/reference/) to find out much more about numpy."
      ]
    }
  ],
  "metadata": {
    "colab": {
      "collapsed_sections": [],
      "name": "Introduction to NumPy.ipynb",
      "provenance": []
    },
    "kernelspec": {
      "display_name": "Python 3",
      "language": "python",
      "name": "python3"
    },
    "language_info": {
      "codemirror_mode": {
        "name": "ipython",
        "version": 3
      },
      "file_extension": ".py",
      "mimetype": "text/x-python",
      "name": "python",
      "nbconvert_exporter": "python",
      "pygments_lexer": "ipython3",
      "version": "3.7.6"
    }
  },
  "nbformat": 4,
  "nbformat_minor": 0
}